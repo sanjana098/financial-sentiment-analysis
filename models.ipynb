{
 "cells": [
  {
   "cell_type": "code",
   "execution_count": 1,
   "id": "aeb9d5b1",
   "metadata": {},
   "outputs": [
    {
     "name": "stderr",
     "output_type": "stream",
     "text": [
      "2022-12-13 17:21:51.984297: I tensorflow/core/platform/cpu_feature_guard.cc:193] This TensorFlow binary is optimized with oneAPI Deep Neural Network Library (oneDNN) to use the following CPU instructions in performance-critical operations:  AVX2 FMA\n",
      "To enable them in other operations, rebuild TensorFlow with the appropriate compiler flags.\n"
     ]
    }
   ],
   "source": [
    "import string\n",
    "import pickle\n",
    "\n",
    "import numpy as np \n",
    "import pandas as pd \n",
    "\n",
    "import gensim\n",
    "import gensim.downloader as api\n",
    "import nltk\n",
    "from nltk.stem import WordNetLemmatizer \n",
    "\n",
    "\n",
    "from sklearn.feature_extraction.text import TfidfVectorizer\n",
    "from sklearn.model_selection import train_test_split\n",
    "from sklearn.metrics import accuracy_score, confusion_matrix, ConfusionMatrixDisplay, classification_report\n",
    "from sklearn.naive_bayes import MultinomialNB\n",
    "\n",
    "import tensorflow as tf\n",
    "from keras.models import Sequential \n",
    "from keras.layers import LSTM, Dense, Embedding\n",
    "from keras.optimizers import Adam\n",
    "from keras.preprocessing.text import Tokenizer \n",
    "from keras.utils import pad_sequences"
   ]
  },
  {
   "cell_type": "code",
   "execution_count": 2,
   "id": "98bb7ca5",
   "metadata": {},
   "outputs": [
    {
     "name": "stdout",
     "output_type": "stream",
     "text": [
      "There are 2264 sentences in this dataset\n"
     ]
    }
   ],
   "source": [
    "fname = 'FinancialPhraseBank-v1.0/Sentences_AllAgree.txt'\n",
    "\n",
    "df = pd.read_csv(fname, sep=\"@\", encoding='latin1', header=None)\n",
    "print('There are {} sentences in this dataset'.format(len(df)))"
   ]
  },
  {
   "cell_type": "markdown",
   "id": "d3d067f9",
   "metadata": {},
   "source": [
    "### Preprocess the dataframe \n",
    "\n",
    "- Convert to lowercase\n",
    "- Remove punctuations\n",
    "- Apply Lemmatization"
   ]
  },
  {
   "cell_type": "code",
   "execution_count": 3,
   "id": "1dc21721",
   "metadata": {},
   "outputs": [],
   "source": [
    "def preprocess(df):\n",
    "    # Remove lowercase, punctuations, lemmatize\n",
    "    lemmatizer = WordNetLemmatizer()\n",
    "    \n",
    "    df['lcase'] = df[0].apply(lambda x: x.lower())\n",
    "    df['no_punct'] = df['lcase'].apply(lambda x: x.translate(str.maketrans('', '', string.punctuation)))\n",
    "    df['cleaned'] = df['no_punct'].apply(lambda x: ' '.join(lemmatizer.lemmatize(t) for t in x.split()))\n",
    "    \n",
    "preprocess(df)"
   ]
  },
  {
   "cell_type": "code",
   "execution_count": 4,
   "id": "f63e593c",
   "metadata": {},
   "outputs": [
    {
     "name": "stdout",
     "output_type": "stream",
     "text": [
      "Training set length - 2037, Test set length - 227\n"
     ]
    }
   ],
   "source": [
    "X_train, X_test, y_train, y_test = train_test_split(df['cleaned'], df[1], test_size=0.1, stratify=df[1], random_state=13)\n",
    "\n",
    "print(\"Training set length - {}, Test set length - {}\".format(len(X_train), len(X_test)))"
   ]
  },
  {
   "cell_type": "markdown",
   "id": "549ebc08",
   "metadata": {},
   "source": [
    "### Represent words in the sentences using tf-idf"
   ]
  },
  {
   "cell_type": "code",
   "execution_count": 5,
   "id": "9df6a12a",
   "metadata": {},
   "outputs": [],
   "source": [
    "tfidf = TfidfVectorizer()\n",
    "\n",
    "X_train_tfidf = tfidf.fit_transform(X_train)\n",
    "X_test_tfidf = tfidf.transform(X_test)"
   ]
  },
  {
   "cell_type": "markdown",
   "id": "396e04d6",
   "metadata": {},
   "source": [
    "### Model 1 - Multinomial Naive Bayes' Classifier using tf-idf features\n",
    "\n",
    "The laplacian smoothing coefficient is unchanged"
   ]
  },
  {
   "cell_type": "code",
   "execution_count": 6,
   "id": "80b1eb7c",
   "metadata": {},
   "outputs": [
    {
     "data": {
      "text/plain": [
       "MultinomialNB()"
      ]
     },
     "execution_count": 6,
     "metadata": {},
     "output_type": "execute_result"
    }
   ],
   "source": [
    "nb = MultinomialNB()\n",
    "nb.fit(X_train_tfidf, y_train)"
   ]
  },
  {
   "cell_type": "markdown",
   "id": "f0d8614c",
   "metadata": {},
   "source": [
    "### Model 1 - Prediction and evaluation metrics"
   ]
  },
  {
   "cell_type": "code",
   "execution_count": 7,
   "id": "69dbdacc",
   "metadata": {},
   "outputs": [
    {
     "name": "stdout",
     "output_type": "stream",
     "text": [
      "Accuracy of Naive Bayes' model - 77.974 %\n"
     ]
    },
    {
     "data": {
      "text/plain": [
       "<sklearn.metrics._plot.confusion_matrix.ConfusionMatrixDisplay at 0x7fe350086400>"
      ]
     },
     "execution_count": 7,
     "metadata": {},
     "output_type": "execute_result"
    },
    {
     "data": {
      "image/png": "[encoded data removed]",
      "text/plain": [
       "<Figure size 640x480 with 2 Axes>"
      ]
     },
     "metadata": {},
     "output_type": "display_data"
    }
   ],
   "source": [
    "y_pred = nb.predict(X_test_tfidf)\n",
    "acc_score = accuracy_score(y_test, y_pred)\n",
    "\n",
    "print(\"Accuracy of Naive Bayes' model - %.3f\"%(acc_score*100), \"%\")\n",
    "cm = confusion_matrix(y_test, y_pred)\n",
    "disp = ConfusionMatrixDisplay(cm, display_labels=['Negative', 'Neutral', 'Positive'])\n",
    "disp.plot()"
   ]
  },
  {
   "cell_type": "code",
   "execution_count": 8,
   "id": "dd87d003",
   "metadata": {},
   "outputs": [
    {
     "name": "stdout",
     "output_type": "stream",
     "text": [
      "              precision    recall  f1-score   support\n",
      "\n",
      "    negative       0.07      1.00      0.12         2\n",
      "     neutral       1.00      0.81      0.89       173\n",
      "    positive       0.61      0.67      0.64        52\n",
      "\n",
      "    accuracy                           0.78       227\n",
      "   macro avg       0.56      0.83      0.55       227\n",
      "weighted avg       0.90      0.78      0.83       227\n",
      "\n"
     ]
    }
   ],
   "source": [
    "print(classification_report(y_pred, y_test))"
   ]
  },
  {
   "cell_type": "markdown",
   "id": "3c2a31d3",
   "metadata": {},
   "source": [
    "### Word2vec"
   ]
  },
  {
   "cell_type": "code",
   "execution_count": 9,
   "id": "602476ea",
   "metadata": {},
   "outputs": [],
   "source": [
    "wv = api.load('word2vec-google-news-300')\n",
    "\n",
    "tokenized_sents = [[word for word in sent.split()] for sent in df['cleaned']]\n",
    "max_length = max(len(arr) for arr in tokenized_sents)"
   ]
  },
  {
   "cell_type": "markdown",
   "id": "59fd9ae1",
   "metadata": {},
   "source": [
    "### Tokenize the dataset \n",
    "\n",
    "The text sequences is padded to match with the length of the longest sentence.  "
   ]
  },
  {
   "cell_type": "code",
   "execution_count": 10,
   "id": "234f230f",
   "metadata": {},
   "outputs": [],
   "source": [
    "tokenizer = Tokenizer()\n",
    "tokenizer.fit_on_texts(tokenized_sents)\n",
    "\n",
    "input_sents = tokenizer.texts_to_sequences(tokenized_sents)\n",
    "input_sents = pad_sequences(input_sents, maxlen=max_length, padding='post')"
   ]
  },
  {
   "cell_type": "markdown",
   "id": "94426cd0",
   "metadata": {},
   "source": [
    "### Create embeddings for words from word2vec dict\n",
    "\n",
    "The length of the word embeddings is set to be 300.\n",
    "\n",
    "Overall there are 6302 unique words in the dataset."
   ]
  },
  {
   "cell_type": "code",
   "execution_count": 11,
   "id": "56ccf905",
   "metadata": {},
   "outputs": [
    {
     "name": "stdout",
     "output_type": "stream",
     "text": [
      "(6302, 300)\n"
     ]
    }
   ],
   "source": [
    "embeddings = np.zeros((len(tokenizer.word_index)+1, 300))\n",
    "for w, i in tokenizer.word_index.items():\n",
    "    if w in wv and i < embeddings.shape[0]:\n",
    "        embeddings[i] = wv[w]\n",
    "        \n",
    "print(embeddings.shape)"
   ]
  },
  {
   "cell_type": "markdown",
   "id": "86450484",
   "metadata": {},
   "source": [
    "### Convert categorical label into one-hot-encoding & data split"
   ]
  },
  {
   "cell_type": "code",
   "execution_count": 12,
   "id": "32412d4a",
   "metadata": {},
   "outputs": [
    {
     "name": "stdout",
     "output_type": "stream",
     "text": [
      "Training set length - 1811 \n",
      "Validation set length - 226 \n",
      "Test set length - 227\n"
     ]
    }
   ],
   "source": [
    "Y = pd.get_dummies(df[1]).values\n",
    "X_train_1, X_valtest_1, y_train_1, y_valtest_1 = train_test_split(input_sents, Y, test_size=0.2, stratify=df[1], random_state=13)\n",
    "X_val_1, X_test_1, y_val_1, y_test_1 = train_test_split(X_valtest_1, y_valtest_1, test_size=0.5, stratify=y_valtest_1, random_state=13)\n",
    "\n",
    "print(\"Training set length - {} \\nValidation set length - {} \\nTest set length - {}\".format(len(X_train_1), len(X_val_1), len(X_test_1)))\n"
   ]
  },
  {
   "cell_type": "markdown",
   "id": "c2345ad9",
   "metadata": {},
   "source": [
    "### Model 2 - LSTM using word2vec features"
   ]
  },
  {
   "cell_type": "code",
   "execution_count": 22,
   "id": "d35d3bf4",
   "metadata": {},
   "outputs": [
    {
     "name": "stderr",
     "output_type": "stream",
     "text": [
      "2022-12-13 11:59:03.548819: I tensorflow/core/platform/cpu_feature_guard.cc:193] This TensorFlow binary is optimized with oneAPI Deep Neural Network Library (oneDNN) to use the following CPU instructions in performance-critical operations:  AVX2 FMA\n",
      "To enable them in other operations, rebuild TensorFlow with the appropriate compiler flags.\n"
     ]
    },
    {
     "name": "stdout",
     "output_type": "stream",
     "text": [
      "Model: \"sequential\"\n",
      "_________________________________________________________________\n",
      " Layer (type)                Output Shape              Param #   \n",
      "=================================================================\n",
      " embedding (Embedding)       (None, 52, 300)           1890600   \n",
      "                                                                 \n",
      " lstm (LSTM)                 (None, 52, 32)            42624     \n",
      "                                                                 \n",
      " lstm_1 (LSTM)               (None, 52, 16)            3136      \n",
      "                                                                 \n",
      " lstm_2 (LSTM)               (None, 8)                 800       \n",
      "                                                                 \n",
      " dense (Dense)               (None, 3)                 27        \n",
      "                                                                 \n",
      "=================================================================\n",
      "Total params: 1,937,187\n",
      "Trainable params: 46,587\n",
      "Non-trainable params: 1,890,600\n",
      "_________________________________________________________________\n"
     ]
    }
   ],
   "source": [
    "model = Sequential()\n",
    "\n",
    "model.add(Embedding(embeddings.shape[0], \n",
    "                    embeddings.shape[1], \n",
    "                    weights = [embeddings],\n",
    "                    input_length=52,\n",
    "                    trainable = False))\n",
    "model.add(LSTM(32, activation='relu', dropout=0.25,\n",
    "               recurrent_dropout=0.25, return_sequences=True))\n",
    "model.add(LSTM(16, activation='relu', dropout=0.25,\n",
    "               recurrent_dropout=0.25, return_sequences=True))\n",
    "model.add(LSTM(8, activation='relu'))\n",
    "model.add(Dense(3, activation='softmax'))\n",
    "\n",
    "model.compile(loss='categorical_crossentropy',\n",
    "              optimizer=Adam(learning_rate=0.0001),\n",
    "              metrics=['accuracy'])\n",
    "model.summary()"
   ]
  },
  {
   "cell_type": "code",
   "execution_count": 23,
   "id": "a30c8014",
   "metadata": {},
   "outputs": [
    {
     "name": "stdout",
     "output_type": "stream",
     "text": [
      "Epoch 1/100\n",
      "453/453 [==============================] - 34s 63ms/step - loss: 1.0225 - accuracy: 0.6113 - val_loss: 0.9385 - val_accuracy: 0.6150\n",
      "Epoch 2/100\n",
      "453/453 [==============================] - 35s 77ms/step - loss: 0.9079 - accuracy: 0.6151 - val_loss: 0.8448 - val_accuracy: 0.6150\n",
      "Epoch 3/100\n",
      "453/453 [==============================] - 27s 59ms/step - loss: 0.8279 - accuracy: 0.6146 - val_loss: 0.8107 - val_accuracy: 0.6150\n",
      "Epoch 4/100\n",
      "453/453 [==============================] - 25s 56ms/step - loss: 0.8011 - accuracy: 0.6146 - val_loss: 0.7778 - val_accuracy: 0.6150\n",
      "Epoch 5/100\n",
      "453/453 [==============================] - 31s 69ms/step - loss: 0.7762 - accuracy: 0.6146 - val_loss: 0.7553 - val_accuracy: 0.6150\n",
      "Epoch 6/100\n",
      "453/453 [==============================] - 40s 88ms/step - loss: 0.7585 - accuracy: 0.6173 - val_loss: 0.7238 - val_accuracy: 0.6195\n",
      "Epoch 7/100\n",
      "453/453 [==============================] - 40s 89ms/step - loss: 0.7330 - accuracy: 0.6372 - val_loss: 0.6850 - val_accuracy: 0.6327\n",
      "Epoch 8/100\n",
      "453/453 [==============================] - 31s 69ms/step - loss: 0.7088 - accuracy: 0.6466 - val_loss: 0.6597 - val_accuracy: 0.6549\n",
      "Epoch 9/100\n",
      "453/453 [==============================] - 31s 69ms/step - loss: 0.6857 - accuracy: 0.6692 - val_loss: 0.6535 - val_accuracy: 0.6726\n",
      "Epoch 10/100\n",
      "453/453 [==============================] - 29s 64ms/step - loss: 0.6641 - accuracy: 0.6853 - val_loss: 0.6390 - val_accuracy: 0.6903\n",
      "Epoch 11/100\n",
      "453/453 [==============================] - 31s 69ms/step - loss: 0.6471 - accuracy: 0.7123 - val_loss: 0.6939 - val_accuracy: 0.7345\n",
      "Epoch 12/100\n",
      "453/453 [==============================] - 29s 64ms/step - loss: 0.8610 - accuracy: 0.6880 - val_loss: 0.7825 - val_accuracy: 0.6726\n",
      "Epoch 13/100\n",
      "453/453 [==============================] - 33s 73ms/step - loss: 0.7552 - accuracy: 0.6869 - val_loss: 0.6880 - val_accuracy: 0.6593\n",
      "Epoch 14/100\n",
      "453/453 [==============================] - 34s 74ms/step - loss: 0.7210 - accuracy: 0.6858 - val_loss: 0.6829 - val_accuracy: 0.6549\n",
      "Epoch 15/100\n",
      "453/453 [==============================] - 31s 69ms/step - loss: 0.7249 - accuracy: 0.6875 - val_loss: 0.6853 - val_accuracy: 0.6549\n",
      "Epoch 16/100\n",
      "453/453 [==============================] - 30s 67ms/step - loss: 0.6959 - accuracy: 0.6875 - val_loss: 0.6772 - val_accuracy: 0.6549\n",
      "Epoch 17/100\n",
      "453/453 [==============================] - 26s 58ms/step - loss: 0.6990 - accuracy: 0.6886 - val_loss: 0.6731 - val_accuracy: 0.6726\n",
      "Epoch 18/100\n",
      "453/453 [==============================] - 29s 63ms/step - loss: 0.6915 - accuracy: 0.6902 - val_loss: 0.6664 - val_accuracy: 0.6770\n",
      "Epoch 19/100\n",
      "453/453 [==============================] - 27s 60ms/step - loss: 0.6997 - accuracy: 0.6985 - val_loss: 0.6700 - val_accuracy: 0.6726\n",
      "Epoch 20/100\n",
      "453/453 [==============================] - 27s 61ms/step - loss: 0.6958 - accuracy: 0.6941 - val_loss: 0.6680 - val_accuracy: 0.6726\n",
      "Epoch 21/100\n",
      "453/453 [==============================] - 26s 58ms/step - loss: 0.6828 - accuracy: 0.7007 - val_loss: 0.6606 - val_accuracy: 0.6726\n",
      "Epoch 22/100\n",
      "453/453 [==============================] - 27s 59ms/step - loss: 0.6791 - accuracy: 0.7024 - val_loss: 0.6488 - val_accuracy: 0.6858\n",
      "Epoch 23/100\n",
      "453/453 [==============================] - 28s 63ms/step - loss: 0.6818 - accuracy: 0.7029 - val_loss: 0.6528 - val_accuracy: 0.7124\n",
      "Epoch 24/100\n",
      "453/453 [==============================] - 27s 59ms/step - loss: 0.6682 - accuracy: 0.7035 - val_loss: 0.6400 - val_accuracy: 0.7124\n",
      "Epoch 25/100\n",
      "453/453 [==============================] - 27s 59ms/step - loss: 0.6551 - accuracy: 0.7134 - val_loss: 0.6253 - val_accuracy: 0.7212\n",
      "Epoch 26/100\n",
      "453/453 [==============================] - 26s 58ms/step - loss: 0.6728 - accuracy: 0.7211 - val_loss: 0.6320 - val_accuracy: 0.7257\n",
      "Epoch 27/100\n",
      "453/453 [==============================] - 31s 68ms/step - loss: 0.6433 - accuracy: 0.7173 - val_loss: 0.6263 - val_accuracy: 0.7345\n",
      "Epoch 28/100\n",
      "453/453 [==============================] - 29s 64ms/step - loss: 0.6319 - accuracy: 0.7245 - val_loss: 0.6110 - val_accuracy: 0.7345\n",
      "Epoch 29/100\n",
      "453/453 [==============================] - 27s 60ms/step - loss: 0.6187 - accuracy: 0.7272 - val_loss: 0.6007 - val_accuracy: 0.7345\n",
      "Epoch 30/100\n",
      "453/453 [==============================] - 32s 71ms/step - loss: 0.6213 - accuracy: 0.7372 - val_loss: 0.5970 - val_accuracy: 0.7345\n",
      "Epoch 31/100\n",
      "453/453 [==============================] - 29s 63ms/step - loss: 0.6171 - accuracy: 0.7394 - val_loss: 0.5937 - val_accuracy: 0.7345\n",
      "Epoch 32/100\n",
      "453/453 [==============================] - 39s 86ms/step - loss: 0.5978 - accuracy: 0.7421 - val_loss: 0.5809 - val_accuracy: 0.7389\n",
      "Epoch 33/100\n",
      "453/453 [==============================] - 52s 115ms/step - loss: 0.6077 - accuracy: 0.7443 - val_loss: 0.5814 - val_accuracy: 0.7389\n",
      "Epoch 34/100\n",
      "453/453 [==============================] - 49s 108ms/step - loss: 0.5866 - accuracy: 0.7488 - val_loss: 0.5691 - val_accuracy: 0.7389\n",
      "Epoch 35/100\n",
      "453/453 [==============================] - 51s 113ms/step - loss: 0.5864 - accuracy: 0.7515 - val_loss: 0.5620 - val_accuracy: 0.7478\n",
      "Epoch 36/100\n",
      "453/453 [==============================] - 51s 113ms/step - loss: 0.5720 - accuracy: 0.7543 - val_loss: 0.5619 - val_accuracy: 0.7478\n",
      "Epoch 37/100\n",
      "453/453 [==============================] - 28s 63ms/step - loss: 0.5599 - accuracy: 0.7581 - val_loss: 0.5480 - val_accuracy: 0.7478\n",
      "Epoch 38/100\n",
      "453/453 [==============================] - 33s 73ms/step - loss: 0.5438 - accuracy: 0.7631 - val_loss: 0.5351 - val_accuracy: 0.7345\n",
      "Epoch 39/100\n",
      "453/453 [==============================] - 36s 80ms/step - loss: 0.5709 - accuracy: 0.7559 - val_loss: 0.5252 - val_accuracy: 0.7345\n",
      "Epoch 40/100\n",
      "453/453 [==============================] - 37s 82ms/step - loss: 0.5296 - accuracy: 0.7554 - val_loss: 0.5183 - val_accuracy: 0.7257\n",
      "Epoch 41/100\n",
      "453/453 [==============================] - 42s 92ms/step - loss: 0.5233 - accuracy: 0.7604 - val_loss: 0.5082 - val_accuracy: 0.7345\n",
      "Epoch 42/100\n",
      "453/453 [==============================] - 39s 86ms/step - loss: 0.5071 - accuracy: 0.7615 - val_loss: 0.5009 - val_accuracy: 0.7522\n",
      "Epoch 43/100\n",
      "453/453 [==============================] - 34s 75ms/step - loss: 0.4847 - accuracy: 0.7692 - val_loss: 0.4874 - val_accuracy: 0.7434\n",
      "Epoch 44/100\n",
      "453/453 [==============================] - 41s 90ms/step - loss: 0.4781 - accuracy: 0.7780 - val_loss: 0.4878 - val_accuracy: 0.7478\n",
      "Epoch 45/100\n",
      "453/453 [==============================] - 35s 77ms/step - loss: 0.4672 - accuracy: 0.7813 - val_loss: 0.4768 - val_accuracy: 0.7832\n",
      "Epoch 46/100\n",
      "453/453 [==============================] - 33s 72ms/step - loss: 0.4640 - accuracy: 0.7841 - val_loss: 0.4580 - val_accuracy: 0.7832\n",
      "Epoch 47/100\n",
      "453/453 [==============================] - 33s 73ms/step - loss: 0.4473 - accuracy: 0.7907 - val_loss: 0.4485 - val_accuracy: 0.7832\n",
      "Epoch 48/100\n",
      "453/453 [==============================] - 33s 74ms/step - loss: 0.4276 - accuracy: 0.7951 - val_loss: 0.4382 - val_accuracy: 0.7920\n",
      "Epoch 49/100\n",
      "453/453 [==============================] - 29s 65ms/step - loss: 0.4287 - accuracy: 0.7962 - val_loss: 0.4362 - val_accuracy: 0.7920\n",
      "Epoch 50/100\n",
      "453/453 [==============================] - 32s 70ms/step - loss: 0.4160 - accuracy: 0.7973 - val_loss: 0.4250 - val_accuracy: 0.7920\n",
      "Epoch 51/100\n",
      "453/453 [==============================] - 32s 70ms/step - loss: 0.4060 - accuracy: 0.8007 - val_loss: 0.4056 - val_accuracy: 0.8009\n",
      "Epoch 52/100\n",
      "453/453 [==============================] - 31s 67ms/step - loss: 0.3874 - accuracy: 0.8123 - val_loss: 0.3877 - val_accuracy: 0.8097\n",
      "Epoch 53/100\n",
      "453/453 [==============================] - 31s 68ms/step - loss: 0.3832 - accuracy: 0.8216 - val_loss: 0.3823 - val_accuracy: 0.8142\n",
      "Epoch 54/100\n",
      "453/453 [==============================] - 31s 68ms/step - loss: 0.3837 - accuracy: 0.8216 - val_loss: 0.3771 - val_accuracy: 0.8186\n",
      "Epoch 55/100\n",
      "453/453 [==============================] - 31s 68ms/step - loss: 0.3868 - accuracy: 0.8244 - val_loss: 0.3771 - val_accuracy: 0.8186\n",
      "Epoch 56/100\n",
      "453/453 [==============================] - 32s 70ms/step - loss: 0.3608 - accuracy: 0.8255 - val_loss: 0.3880 - val_accuracy: 0.8274\n",
      "Epoch 57/100\n"
     ]
    },
    {
     "name": "stdout",
     "output_type": "stream",
     "text": [
      "453/453 [==============================] - 32s 71ms/step - loss: 0.3526 - accuracy: 0.8332 - val_loss: 0.3741 - val_accuracy: 0.8186\n",
      "Epoch 58/100\n",
      "453/453 [==============================] - 33s 72ms/step - loss: 0.3570 - accuracy: 0.8327 - val_loss: 0.3767 - val_accuracy: 0.8274\n",
      "Epoch 59/100\n",
      "453/453 [==============================] - 32s 72ms/step - loss: 0.3426 - accuracy: 0.8327 - val_loss: 0.3619 - val_accuracy: 0.8363\n",
      "Epoch 60/100\n",
      "453/453 [==============================] - 34s 75ms/step - loss: 0.3420 - accuracy: 0.8371 - val_loss: 0.3623 - val_accuracy: 0.8230\n",
      "Epoch 61/100\n",
      "453/453 [==============================] - 41s 90ms/step - loss: 0.3471 - accuracy: 0.8310 - val_loss: 0.3514 - val_accuracy: 0.8363\n",
      "Epoch 62/100\n",
      "453/453 [==============================] - 43s 94ms/step - loss: 0.3312 - accuracy: 0.8377 - val_loss: 0.3746 - val_accuracy: 0.8274\n",
      "Epoch 63/100\n",
      "453/453 [==============================] - 40s 89ms/step - loss: 0.3331 - accuracy: 0.8338 - val_loss: 0.3513 - val_accuracy: 0.8363\n",
      "Epoch 64/100\n",
      "453/453 [==============================] - 41s 91ms/step - loss: 0.3193 - accuracy: 0.8426 - val_loss: 0.3492 - val_accuracy: 0.8319\n",
      "Epoch 65/100\n",
      "453/453 [==============================] - 38s 84ms/step - loss: 0.3141 - accuracy: 0.8476 - val_loss: 0.3783 - val_accuracy: 0.8230\n",
      "Epoch 66/100\n",
      "453/453 [==============================] - 39s 87ms/step - loss: 0.3180 - accuracy: 0.8426 - val_loss: 0.3487 - val_accuracy: 0.8230\n",
      "Epoch 67/100\n",
      "453/453 [==============================] - 35s 78ms/step - loss: 0.3033 - accuracy: 0.8493 - val_loss: 0.4193 - val_accuracy: 0.8009\n",
      "Epoch 68/100\n",
      "453/453 [==============================] - 39s 85ms/step - loss: 0.3295 - accuracy: 0.8366 - val_loss: 0.3553 - val_accuracy: 0.8319\n",
      "Epoch 69/100\n",
      "453/453 [==============================] - 44s 96ms/step - loss: 0.3082 - accuracy: 0.8470 - val_loss: 0.3436 - val_accuracy: 0.8274\n",
      "Epoch 70/100\n",
      "453/453 [==============================] - 38s 85ms/step - loss: 0.3045 - accuracy: 0.8487 - val_loss: 0.3578 - val_accuracy: 0.8274\n",
      "Epoch 71/100\n",
      "453/453 [==============================] - 34s 74ms/step - loss: 0.2998 - accuracy: 0.8575 - val_loss: 0.3511 - val_accuracy: 0.8274\n",
      "Epoch 72/100\n",
      "453/453 [==============================] - 34s 74ms/step - loss: 0.3192 - accuracy: 0.8437 - val_loss: 0.3446 - val_accuracy: 0.8363\n",
      "Epoch 73/100\n",
      "453/453 [==============================] - 32s 70ms/step - loss: 0.3003 - accuracy: 0.8498 - val_loss: 0.3581 - val_accuracy: 0.8319\n",
      "Epoch 74/100\n",
      "453/453 [==============================] - 34s 76ms/step - loss: 0.3032 - accuracy: 0.8542 - val_loss: 0.3363 - val_accuracy: 0.8230\n",
      "Epoch 75/100\n",
      "453/453 [==============================] - 32s 71ms/step - loss: 0.2964 - accuracy: 0.8603 - val_loss: 0.3342 - val_accuracy: 0.8407\n",
      "Epoch 76/100\n",
      "453/453 [==============================] - 31s 67ms/step - loss: 0.2864 - accuracy: 0.8620 - val_loss: 0.3426 - val_accuracy: 0.8761\n",
      "Epoch 77/100\n",
      "453/453 [==============================] - 31s 69ms/step - loss: 0.2723 - accuracy: 0.8780 - val_loss: 0.3381 - val_accuracy: 0.8319\n",
      "Epoch 78/100\n",
      "453/453 [==============================] - 36s 79ms/step - loss: 0.2898 - accuracy: 0.8570 - val_loss: 0.3228 - val_accuracy: 0.8407\n",
      "Epoch 79/100\n",
      "453/453 [==============================] - 34s 74ms/step - loss: 0.2712 - accuracy: 0.8691 - val_loss: 0.3194 - val_accuracy: 0.8717\n",
      "Epoch 80/100\n",
      "453/453 [==============================] - 33s 73ms/step - loss: 0.2776 - accuracy: 0.8708 - val_loss: 0.3247 - val_accuracy: 0.8363\n",
      "Epoch 81/100\n",
      "453/453 [==============================] - 34s 74ms/step - loss: 0.7709 - accuracy: 0.8564 - val_loss: 0.3189 - val_accuracy: 0.8628\n",
      "Epoch 82/100\n",
      "453/453 [==============================] - 34s 75ms/step - loss: 0.2742 - accuracy: 0.8730 - val_loss: 0.3197 - val_accuracy: 0.8540\n",
      "Epoch 83/100\n",
      "453/453 [==============================] - 35s 76ms/step - loss: 0.2689 - accuracy: 0.8730 - val_loss: 0.3250 - val_accuracy: 0.8628\n",
      "Epoch 84/100\n",
      "453/453 [==============================] - 36s 80ms/step - loss: 0.2812 - accuracy: 0.8758 - val_loss: 0.3218 - val_accuracy: 0.8451\n",
      "Epoch 85/100\n",
      "453/453 [==============================] - 38s 83ms/step - loss: 0.2552 - accuracy: 0.8791 - val_loss: 0.3289 - val_accuracy: 0.8451\n",
      "Epoch 86/100\n",
      "453/453 [==============================] - 39s 86ms/step - loss: 0.2452 - accuracy: 0.8918 - val_loss: 0.3301 - val_accuracy: 0.8761\n",
      "Epoch 87/100\n",
      "453/453 [==============================] - 38s 83ms/step - loss: 0.2568 - accuracy: 0.8807 - val_loss: 0.3193 - val_accuracy: 0.8628\n",
      "Epoch 88/100\n",
      "453/453 [==============================] - 35s 77ms/step - loss: 0.2596 - accuracy: 0.8785 - val_loss: 0.3258 - val_accuracy: 0.8628\n",
      "Epoch 89/100\n",
      "453/453 [==============================] - 35s 77ms/step - loss: 0.2549 - accuracy: 0.8835 - val_loss: 0.3142 - val_accuracy: 0.8628\n",
      "Epoch 90/100\n",
      "453/453 [==============================] - 36s 80ms/step - loss: 0.3260 - accuracy: 0.8713 - val_loss: 0.3364 - val_accuracy: 0.8274\n",
      "Epoch 91/100\n",
      "453/453 [==============================] - 39s 86ms/step - loss: 0.2719 - accuracy: 0.8697 - val_loss: 0.3201 - val_accuracy: 0.8451\n",
      "Epoch 92/100\n",
      "453/453 [==============================] - 43s 94ms/step - loss: 0.2552 - accuracy: 0.8791 - val_loss: 0.3185 - val_accuracy: 0.8584\n",
      "Epoch 93/100\n",
      "453/453 [==============================] - 36s 80ms/step - loss: 0.2408 - accuracy: 0.8896 - val_loss: 0.3111 - val_accuracy: 0.8628\n",
      "Epoch 94/100\n",
      "453/453 [==============================] - 35s 78ms/step - loss: 0.2581 - accuracy: 0.8791 - val_loss: 0.3154 - val_accuracy: 0.8628\n",
      "Epoch 95/100\n",
      "453/453 [==============================] - 38s 84ms/step - loss: 0.2532 - accuracy: 0.8857 - val_loss: 0.3548 - val_accuracy: 0.8540\n",
      "Epoch 96/100\n",
      "453/453 [==============================] - 52s 115ms/step - loss: 0.2358 - accuracy: 0.8945 - val_loss: 0.3141 - val_accuracy: 0.8673\n",
      "Epoch 97/100\n",
      "453/453 [==============================] - 46s 101ms/step - loss: 0.2419 - accuracy: 0.8890 - val_loss: 0.3139 - val_accuracy: 0.8982\n",
      "Epoch 98/100\n",
      "453/453 [==============================] - 44s 97ms/step - loss: 0.2468 - accuracy: 0.8890 - val_loss: 0.2896 - val_accuracy: 0.8982\n",
      "Epoch 99/100\n",
      "453/453 [==============================] - 39s 85ms/step - loss: 0.2291 - accuracy: 0.8995 - val_loss: 0.2975 - val_accuracy: 0.9115\n",
      "Epoch 100/100\n",
      "453/453 [==============================] - 39s 86ms/step - loss: 0.2251 - accuracy: 0.8984 - val_loss: 0.2982 - val_accuracy: 0.9071\n"
     ]
    }
   ],
   "source": [
    "history = model.fit(X_train_1, \n",
    "                    y_train_1, \n",
    "                    validation_data=(X_val_1, y_val_1),\n",
    "                    batch_size=4, \n",
    "                    epochs=100, \n",
    "                    verbose=1)"
   ]
  },
  {
   "cell_type": "code",
   "execution_count": 39,
   "id": "08d5a53d",
   "metadata": {},
   "outputs": [
    {
     "name": "stdout",
     "output_type": "stream",
     "text": [
      "8/8 [==============================] - 0s 20ms/step - loss: 0.5791 - accuracy: 0.8194\n",
      "Accuracy of LSTM model - 81.938 %\n"
     ]
    }
   ],
   "source": [
    "test_accuracy = model.evaluate(X_test_1, y_test_1)\n",
    "print(\"Accuracy of LSTM model - %.3f\"%(test_accuracy[1]*100), \"%\")"
   ]
  },
  {
   "cell_type": "code",
   "execution_count": 55,
   "id": "6f1ac0d2",
   "metadata": {},
   "outputs": [
    {
     "name": "stdout",
     "output_type": "stream",
     "text": [
      "8/8 [==============================] - 0s 17ms/step\n"
     ]
    },
    {
     "data": {
      "text/plain": [
       "<sklearn.metrics._plot.confusion_matrix.ConfusionMatrixDisplay at 0x7feea44a6a20>"
      ]
     },
     "execution_count": 55,
     "metadata": {},
     "output_type": "execute_result"
    },
    {
     "data": {
      "image/png": "[encoded data removed]",
      "text/plain": [
       "<Figure size 640x480 with 2 Axes>"
      ]
     },
     "metadata": {},
     "output_type": "display_data"
    }
   ],
   "source": [
    "y_pred_1 = model.predict(X_test_1)\n",
    "y_pred_1 = np.apply_along_axis(lambda x: np.argmax(x), axis=1, arr=y_pred_1)\n",
    "\n",
    "y_test_class = np.apply_along_axis(lambda x: np.argmax(x), axis=1, arr=y_test_1)\n",
    "cm = confusion_matrix(y_test_class, y_pred_1)\n",
    "disp = ConfusionMatrixDisplay(cm, display_labels=['Negative', 'Neutral', 'Positive'])\n",
    "disp.plot()"
   ]
  },
  {
   "cell_type": "code",
   "execution_count": 56,
   "id": "103147b9",
   "metadata": {},
   "outputs": [
    {
     "name": "stdout",
     "output_type": "stream",
     "text": [
      "              precision    recall  f1-score   support\n",
      "\n",
      "           0       0.39      0.57      0.46        21\n",
      "           1       0.95      0.95      0.95       139\n",
      "           2       0.74      0.63      0.68        67\n",
      "\n",
      "    accuracy                           0.82       227\n",
      "   macro avg       0.69      0.72      0.70       227\n",
      "weighted avg       0.83      0.82      0.82       227\n",
      "\n"
     ]
    }
   ],
   "source": [
    "print(classification_report(y_pred_1, y_test_class))"
   ]
  },
  {
   "cell_type": "code",
   "execution_count": 19,
   "id": "86d8d6bd",
   "metadata": {},
   "outputs": [],
   "source": [
    "# model.save('model.keras')"
   ]
  },
  {
   "cell_type": "code",
   "execution_count": 23,
   "id": "16288f21",
   "metadata": {},
   "outputs": [],
   "source": [
    "# m1 = tf.keras.models.load_model('model.keras')\n",
    "# ta = m1.evaluate(X_test_1[9:], y_test_1[9:])\n",
    "# res = m1.predict(X_test_1[9:10])"
   ]
  },
  {
   "cell_type": "code",
   "execution_count": 33,
   "id": "68abd8fe",
   "metadata": {},
   "outputs": [],
   "source": [
    "# with open('tokenizer.pkl', 'wb') as f:\n",
    "#     pickle.dump(tokenizer, f)"
   ]
  },
  {
   "cell_type": "code",
   "execution_count": 20,
   "id": "3cf236d3",
   "metadata": {},
   "outputs": [
    {
     "name": "stdout",
     "output_type": "stream",
     "text": [
      "3\n"
     ]
    }
   ],
   "source": [
    "print('3')"
   ]
  },
  {
   "cell_type": "code",
   "execution_count": null,
   "id": "dbaba3f7",
   "metadata": {},
   "outputs": [],
   "source": []
  }
 ],
 "metadata": {
  "kernelspec": {
   "display_name": "Python 3 (ipykernel)",
   "language": "python",
   "name": "python3"
  },
  "language_info": {
   "codemirror_mode": {
    "name": "ipython",
    "version": 3
   },
   "file_extension": ".py",
   "mimetype": "text/x-python",
   "name": "python",
   "nbconvert_exporter": "python",
   "pygments_lexer": "ipython3",
   "version": "3.7.2"
  }
 },
 "nbformat": 4,
 "nbformat_minor": 5
}
